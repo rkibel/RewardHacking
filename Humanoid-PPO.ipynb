{
  "cells": [
    {
      "cell_type": "markdown",
      "metadata": {
        "id": "YvyGCsgSCxHQ"
      },
      "source": [
        "Install MuJoCo, MJX, and Brax"
      ]
    },
    {
      "cell_type": "code",
      "execution_count": 1,
      "metadata": {
        "collapsed": true,
        "id": "Xqo7pyX-n72M"
      },
      "outputs": [
        {
          "name": "stdout",
          "output_type": "stream",
          "text": [
            "Requirement already satisfied: mujoco in c:\\users\\ronki\\anaconda3\\envs\\mujoco_env\\lib\\site-packages (3.2.7)\n",
            "Requirement already satisfied: absl-py in c:\\users\\ronki\\anaconda3\\envs\\mujoco_env\\lib\\site-packages (from mujoco) (2.1.0)\n",
            "Requirement already satisfied: etils[epath] in c:\\users\\ronki\\anaconda3\\envs\\mujoco_env\\lib\\site-packages (from mujoco) (1.12.0)\n",
            "Requirement already satisfied: glfw in c:\\users\\ronki\\anaconda3\\envs\\mujoco_env\\lib\\site-packages (from mujoco) (2.8.0)\n",
            "Requirement already satisfied: numpy in c:\\users\\ronki\\anaconda3\\envs\\mujoco_env\\lib\\site-packages (from mujoco) (1.26.4)\n",
            "Requirement already satisfied: pyopengl in c:\\users\\ronki\\anaconda3\\envs\\mujoco_env\\lib\\site-packages (from mujoco) (3.1.9)\n",
            "Requirement already satisfied: fsspec in c:\\users\\ronki\\anaconda3\\envs\\mujoco_env\\lib\\site-packages (from etils[epath]->mujoco) (2025.2.0)\n",
            "Requirement already satisfied: importlib_resources in c:\\users\\ronki\\anaconda3\\envs\\mujoco_env\\lib\\site-packages (from etils[epath]->mujoco) (6.5.2)\n",
            "Requirement already satisfied: typing_extensions in c:\\users\\ronki\\anaconda3\\envs\\mujoco_env\\lib\\site-packages (from etils[epath]->mujoco) (4.12.2)\n",
            "Requirement already satisfied: zipp in c:\\users\\ronki\\anaconda3\\envs\\mujoco_env\\lib\\site-packages (from etils[epath]->mujoco) (3.21.0)\n",
            "Note: you may need to restart the kernel to use updated packages.\n",
            "Requirement already satisfied: mujoco_mjx in c:\\users\\ronki\\anaconda3\\envs\\mujoco_env\\lib\\site-packages (3.2.7)\n",
            "Requirement already satisfied: absl-py in c:\\users\\ronki\\anaconda3\\envs\\mujoco_env\\lib\\site-packages (from mujoco_mjx) (2.1.0)\n",
            "Requirement already satisfied: etils[epath] in c:\\users\\ronki\\anaconda3\\envs\\mujoco_env\\lib\\site-packages (from mujoco_mjx) (1.12.0)\n",
            "Requirement already satisfied: jax in c:\\users\\ronki\\anaconda3\\envs\\mujoco_env\\lib\\site-packages (from mujoco_mjx) (0.5.0)\n",
            "Requirement already satisfied: jaxlib in c:\\users\\ronki\\anaconda3\\envs\\mujoco_env\\lib\\site-packages (from mujoco_mjx) (0.5.0)\n",
            "Requirement already satisfied: mujoco>=3.2.7.dev0 in c:\\users\\ronki\\anaconda3\\envs\\mujoco_env\\lib\\site-packages (from mujoco_mjx) (3.2.7)\n",
            "Requirement already satisfied: scipy in c:\\users\\ronki\\anaconda3\\envs\\mujoco_env\\lib\\site-packages (from mujoco_mjx) (1.15.1)\n",
            "Requirement already satisfied: trimesh in c:\\users\\ronki\\anaconda3\\envs\\mujoco_env\\lib\\site-packages (from mujoco_mjx) (4.6.2)\n",
            "Requirement already satisfied: glfw in c:\\users\\ronki\\anaconda3\\envs\\mujoco_env\\lib\\site-packages (from mujoco>=3.2.7.dev0->mujoco_mjx) (2.8.0)\n",
            "Requirement already satisfied: numpy in c:\\users\\ronki\\anaconda3\\envs\\mujoco_env\\lib\\site-packages (from mujoco>=3.2.7.dev0->mujoco_mjx) (1.26.4)\n",
            "Requirement already satisfied: pyopengl in c:\\users\\ronki\\anaconda3\\envs\\mujoco_env\\lib\\site-packages (from mujoco>=3.2.7.dev0->mujoco_mjx) (3.1.9)\n",
            "Requirement already satisfied: fsspec in c:\\users\\ronki\\anaconda3\\envs\\mujoco_env\\lib\\site-packages (from etils[epath]->mujoco_mjx) (2025.2.0)\n",
            "Requirement already satisfied: importlib_resources in c:\\users\\ronki\\anaconda3\\envs\\mujoco_env\\lib\\site-packages (from etils[epath]->mujoco_mjx) (6.5.2)\n",
            "Requirement already satisfied: typing_extensions in c:\\users\\ronki\\anaconda3\\envs\\mujoco_env\\lib\\site-packages (from etils[epath]->mujoco_mjx) (4.12.2)\n",
            "Requirement already satisfied: zipp in c:\\users\\ronki\\anaconda3\\envs\\mujoco_env\\lib\\site-packages (from etils[epath]->mujoco_mjx) (3.21.0)\n",
            "Requirement already satisfied: ml_dtypes>=0.4.0 in c:\\users\\ronki\\anaconda3\\envs\\mujoco_env\\lib\\site-packages (from jax->mujoco_mjx) (0.5.1)\n",
            "Requirement already satisfied: opt_einsum in c:\\users\\ronki\\anaconda3\\envs\\mujoco_env\\lib\\site-packages (from jax->mujoco_mjx) (3.4.0)\n",
            "Note: you may need to restart the kernel to use updated packages.\n",
            "Requirement already satisfied: brax in c:\\users\\ronki\\anaconda3\\envs\\mujoco_env\\lib\\site-packages (0.12.1)\n",
            "Requirement already satisfied: absl-py in c:\\users\\ronki\\anaconda3\\envs\\mujoco_env\\lib\\site-packages (from brax) (2.1.0)\n",
            "Requirement already satisfied: dm_env in c:\\users\\ronki\\anaconda3\\envs\\mujoco_env\\lib\\site-packages (from brax) (1.6)\n",
            "Requirement already satisfied: etils in c:\\users\\ronki\\anaconda3\\envs\\mujoco_env\\lib\\site-packages (from brax) (1.12.0)\n",
            "Requirement already satisfied: flask in c:\\users\\ronki\\anaconda3\\envs\\mujoco_env\\lib\\site-packages (from brax) (3.1.0)\n",
            "Requirement already satisfied: flask_cors in c:\\users\\ronki\\anaconda3\\envs\\mujoco_env\\lib\\site-packages (from brax) (5.0.0)\n",
            "Requirement already satisfied: flax in c:\\users\\ronki\\anaconda3\\envs\\mujoco_env\\lib\\site-packages (from brax) (0.10.3)\n",
            "Requirement already satisfied: grpcio in c:\\users\\ronki\\anaconda3\\envs\\mujoco_env\\lib\\site-packages (from brax) (1.70.0)\n",
            "Requirement already satisfied: gym in c:\\users\\ronki\\anaconda3\\envs\\mujoco_env\\lib\\site-packages (from brax) (0.26.2)\n",
            "Requirement already satisfied: jax>=0.4.6 in c:\\users\\ronki\\anaconda3\\envs\\mujoco_env\\lib\\site-packages (from brax) (0.5.0)\n",
            "Requirement already satisfied: jaxlib>=0.4.6 in c:\\users\\ronki\\anaconda3\\envs\\mujoco_env\\lib\\site-packages (from brax) (0.5.0)\n",
            "Requirement already satisfied: jaxopt in c:\\users\\ronki\\anaconda3\\envs\\mujoco_env\\lib\\site-packages (from brax) (0.8.3)\n",
            "Requirement already satisfied: jinja2 in c:\\users\\ronki\\anaconda3\\envs\\mujoco_env\\lib\\site-packages (from brax) (3.1.5)\n",
            "Requirement already satisfied: ml_collections in c:\\users\\ronki\\anaconda3\\envs\\mujoco_env\\lib\\site-packages (from brax) (1.0.0)\n",
            "Requirement already satisfied: mujoco in c:\\users\\ronki\\anaconda3\\envs\\mujoco_env\\lib\\site-packages (from brax) (3.2.7)\n",
            "Requirement already satisfied: mujoco-mjx in c:\\users\\ronki\\anaconda3\\envs\\mujoco_env\\lib\\site-packages (from brax) (3.2.7)\n",
            "Requirement already satisfied: numpy in c:\\users\\ronki\\anaconda3\\envs\\mujoco_env\\lib\\site-packages (from brax) (1.26.4)\n",
            "Requirement already satisfied: optax in c:\\users\\ronki\\anaconda3\\envs\\mujoco_env\\lib\\site-packages (from brax) (0.2.4)\n",
            "Requirement already satisfied: orbax-checkpoint in c:\\users\\ronki\\anaconda3\\envs\\mujoco_env\\lib\\site-packages (from brax) (0.11.5)\n",
            "Requirement already satisfied: Pillow in c:\\users\\ronki\\anaconda3\\envs\\mujoco_env\\lib\\site-packages (from brax) (11.1.0)\n",
            "Requirement already satisfied: pytinyrenderer in c:\\users\\ronki\\anaconda3\\envs\\mujoco_env\\lib\\site-packages (from brax) (0.0.14)\n",
            "Requirement already satisfied: scipy in c:\\users\\ronki\\anaconda3\\envs\\mujoco_env\\lib\\site-packages (from brax) (1.15.1)\n",
            "Requirement already satisfied: tensorboardX in c:\\users\\ronki\\anaconda3\\envs\\mujoco_env\\lib\\site-packages (from brax) (2.6.2.2)\n",
            "Requirement already satisfied: trimesh in c:\\users\\ronki\\anaconda3\\envs\\mujoco_env\\lib\\site-packages (from brax) (4.6.2)\n",
            "Requirement already satisfied: typing-extensions in c:\\users\\ronki\\anaconda3\\envs\\mujoco_env\\lib\\site-packages (from brax) (4.12.2)\n",
            "Requirement already satisfied: ml_dtypes>=0.4.0 in c:\\users\\ronki\\anaconda3\\envs\\mujoco_env\\lib\\site-packages (from jax>=0.4.6->brax) (0.5.1)\n",
            "Requirement already satisfied: opt_einsum in c:\\users\\ronki\\anaconda3\\envs\\mujoco_env\\lib\\site-packages (from jax>=0.4.6->brax) (3.4.0)\n",
            "Requirement already satisfied: dm-tree in c:\\users\\ronki\\anaconda3\\envs\\mujoco_env\\lib\\site-packages (from dm_env->brax) (0.1.9)\n",
            "Requirement already satisfied: Werkzeug>=3.1 in c:\\users\\ronki\\anaconda3\\envs\\mujoco_env\\lib\\site-packages (from flask->brax) (3.1.3)\n",
            "Requirement already satisfied: itsdangerous>=2.2 in c:\\users\\ronki\\anaconda3\\envs\\mujoco_env\\lib\\site-packages (from flask->brax) (2.2.0)\n",
            "Requirement already satisfied: click>=8.1.3 in c:\\users\\ronki\\anaconda3\\envs\\mujoco_env\\lib\\site-packages (from flask->brax) (8.1.8)\n",
            "Requirement already satisfied: blinker>=1.9 in c:\\users\\ronki\\anaconda3\\envs\\mujoco_env\\lib\\site-packages (from flask->brax) (1.9.0)\n",
            "Requirement already satisfied: MarkupSafe>=2.0 in c:\\users\\ronki\\anaconda3\\envs\\mujoco_env\\lib\\site-packages (from jinja2->brax) (3.0.2)\n",
            "Requirement already satisfied: msgpack in c:\\users\\ronki\\anaconda3\\envs\\mujoco_env\\lib\\site-packages (from flax->brax) (1.1.0)\n",
            "Requirement already satisfied: tensorstore in c:\\users\\ronki\\anaconda3\\envs\\mujoco_env\\lib\\site-packages (from flax->brax) (0.1.71)\n",
            "Requirement already satisfied: rich>=11.1 in c:\\users\\ronki\\anaconda3\\envs\\mujoco_env\\lib\\site-packages (from flax->brax) (13.9.4)\n",
            "Requirement already satisfied: PyYAML>=5.4.1 in c:\\users\\ronki\\anaconda3\\envs\\mujoco_env\\lib\\site-packages (from flax->brax) (6.0.2)\n",
            "Requirement already satisfied: treescope>=0.1.7 in c:\\users\\ronki\\anaconda3\\envs\\mujoco_env\\lib\\site-packages (from flax->brax) (0.1.8)\n",
            "Requirement already satisfied: cloudpickle>=1.2.0 in c:\\users\\ronki\\anaconda3\\envs\\mujoco_env\\lib\\site-packages (from gym->brax) (3.1.1)\n",
            "Requirement already satisfied: gym_notices>=0.0.4 in c:\\users\\ronki\\anaconda3\\envs\\mujoco_env\\lib\\site-packages (from gym->brax) (0.0.8)\n",
            "Requirement already satisfied: six in c:\\users\\ronki\\anaconda3\\envs\\mujoco_env\\lib\\site-packages (from ml_collections->brax) (1.16.0)\n",
            "Requirement already satisfied: glfw in c:\\users\\ronki\\anaconda3\\envs\\mujoco_env\\lib\\site-packages (from mujoco->brax) (2.8.0)\n",
            "Requirement already satisfied: pyopengl in c:\\users\\ronki\\anaconda3\\envs\\mujoco_env\\lib\\site-packages (from mujoco->brax) (3.1.9)\n",
            "Requirement already satisfied: chex>=0.1.87 in c:\\users\\ronki\\anaconda3\\envs\\mujoco_env\\lib\\site-packages (from optax->brax) (0.1.88)\n",
            "Requirement already satisfied: nest_asyncio in c:\\users\\ronki\\anaconda3\\envs\\mujoco_env\\lib\\site-packages (from orbax-checkpoint->brax) (1.6.0)\n",
            "Requirement already satisfied: protobuf in c:\\users\\ronki\\anaconda3\\envs\\mujoco_env\\lib\\site-packages (from orbax-checkpoint->brax) (5.29.3)\n",
            "Requirement already satisfied: humanize in c:\\users\\ronki\\anaconda3\\envs\\mujoco_env\\lib\\site-packages (from orbax-checkpoint->brax) (4.12.0)\n",
            "Requirement already satisfied: simplejson>=3.16.0 in c:\\users\\ronki\\anaconda3\\envs\\mujoco_env\\lib\\site-packages (from orbax-checkpoint->brax) (3.20.1)\n",
            "Requirement already satisfied: packaging in c:\\users\\ronki\\anaconda3\\envs\\mujoco_env\\lib\\site-packages (from tensorboardX->brax) (24.2)\n",
            "Requirement already satisfied: toolz>=0.9.0 in c:\\users\\ronki\\anaconda3\\envs\\mujoco_env\\lib\\site-packages (from chex>=0.1.87->optax->brax) (1.0.0)\n",
            "Requirement already satisfied: colorama in c:\\users\\ronki\\anaconda3\\envs\\mujoco_env\\lib\\site-packages (from click>=8.1.3->flask->brax) (0.4.6)\n",
            "Requirement already satisfied: markdown-it-py>=2.2.0 in c:\\users\\ronki\\anaconda3\\envs\\mujoco_env\\lib\\site-packages (from rich>=11.1->flax->brax) (3.0.0)\n",
            "Requirement already satisfied: pygments<3.0.0,>=2.13.0 in c:\\users\\ronki\\anaconda3\\envs\\mujoco_env\\lib\\site-packages (from rich>=11.1->flax->brax) (2.15.1)\n",
            "Requirement already satisfied: attrs>=18.2.0 in c:\\users\\ronki\\anaconda3\\envs\\mujoco_env\\lib\\site-packages (from dm-tree->dm_env->brax) (25.1.0)\n",
            "Requirement already satisfied: wrapt>=1.11.2 in c:\\users\\ronki\\anaconda3\\envs\\mujoco_env\\lib\\site-packages (from dm-tree->dm_env->brax) (1.17.2)\n",
            "Requirement already satisfied: fsspec in c:\\users\\ronki\\anaconda3\\envs\\mujoco_env\\lib\\site-packages (from etils[epath,epy]->orbax-checkpoint->brax) (2025.2.0)\n",
            "Requirement already satisfied: importlib_resources in c:\\users\\ronki\\anaconda3\\envs\\mujoco_env\\lib\\site-packages (from etils[epath,epy]->orbax-checkpoint->brax) (6.5.2)\n",
            "Requirement already satisfied: zipp in c:\\users\\ronki\\anaconda3\\envs\\mujoco_env\\lib\\site-packages (from etils[epath,epy]->orbax-checkpoint->brax) (3.21.0)\n",
            "Requirement already satisfied: mdurl~=0.1 in c:\\users\\ronki\\anaconda3\\envs\\mujoco_env\\lib\\site-packages (from markdown-it-py>=2.2.0->rich>=11.1->flax->brax) (0.1.2)\n",
            "Note: you may need to restart the kernel to use updated packages.\n",
            "Requirement already satisfied: jax in c:\\users\\ronki\\anaconda3\\envs\\mujoco_env\\lib\\site-packages (0.5.0)\n",
            "Requirement already satisfied: jaxlib<=0.5.0,>=0.5.0 in c:\\users\\ronki\\anaconda3\\envs\\mujoco_env\\lib\\site-packages (from jax) (0.5.0)\n",
            "Requirement already satisfied: ml_dtypes>=0.4.0 in c:\\users\\ronki\\anaconda3\\envs\\mujoco_env\\lib\\site-packages (from jax) (0.5.1)\n",
            "Requirement already satisfied: numpy>=1.25 in c:\\users\\ronki\\anaconda3\\envs\\mujoco_env\\lib\\site-packages (from jax) (1.26.4)\n",
            "Requirement already satisfied: opt_einsum in c:\\users\\ronki\\anaconda3\\envs\\mujoco_env\\lib\\site-packages (from jax) (3.4.0)\n",
            "Requirement already satisfied: scipy>=1.11.1 in c:\\users\\ronki\\anaconda3\\envs\\mujoco_env\\lib\\site-packages (from jax) (1.15.1)\n",
            "Note: you may need to restart the kernel to use updated packages.\n"
          ]
        }
      ],
      "source": [
        "%pip install mujoco\n",
        "%pip install mujoco_mjx\n",
        "%pip install brax\n",
        "%pip install jax"
      ]
    },
    {
      "cell_type": "code",
      "execution_count": 2,
      "metadata": {},
      "outputs": [],
      "source": [
        "#@title Import packages for plotting and creating graphics\n",
        "import time\n",
        "import itertools\n",
        "import numpy as np\n",
        "from typing import Callable, NamedTuple, Optional, Union, List\n",
        "import mediapy as media\n",
        "import matplotlib.pyplot as plt\n",
        "\n",
        "# More legible printing from numpy.\n",
        "np.set_printoptions(precision=3, suppress=True, linewidth=100)"
      ]
    },
    {
      "cell_type": "code",
      "execution_count": 3,
      "metadata": {},
      "outputs": [
        {
          "ename": "ImportError",
          "evalue": "DLL load failed while importing _multiarray_umath: The specified module could not be found.",
          "output_type": "error",
          "traceback": [
            "\u001b[1;31m---------------------------------------------------------------------------\u001b[0m",
            "\u001b[1;31mImportError\u001b[0m                               Traceback (most recent call last)",
            "\u001b[1;31mImportError\u001b[0m: DLL load failed while importing _multiarray_umath: The specified module could not be found."
          ]
        },
        {
          "ename": "ImportError",
          "evalue": "_multiarray_umath failed to import",
          "output_type": "error",
          "traceback": [
            "\u001b[1;31m---------------------------------------------------------------------------\u001b[0m",
            "\u001b[1;31mImportError\u001b[0m                               Traceback (most recent call last)",
            "\u001b[1;31mImportError\u001b[0m: _multiarray_umath failed to import"
          ]
        },
        {
          "ename": "ImportError",
          "evalue": "numpy._core.umath failed to import",
          "output_type": "error",
          "traceback": [
            "\u001b[1;31m---------------------------------------------------------------------------\u001b[0m",
            "\u001b[1;31mImportError\u001b[0m                               Traceback (most recent call last)",
            "Cell \u001b[1;32mIn[3], line 11\u001b[0m\n\u001b[0;32m      7\u001b[0m \u001b[38;5;28;01mimport\u001b[39;00m \u001b[38;5;21;01mos\u001b[39;00m\n\u001b[0;32m      8\u001b[0m \u001b[38;5;28;01mfrom\u001b[39;00m \u001b[38;5;21;01mml_collections\u001b[39;00m \u001b[38;5;28;01mimport\u001b[39;00m config_dict\n\u001b[1;32m---> 11\u001b[0m \u001b[38;5;28;01mimport\u001b[39;00m \u001b[38;5;21;01mjax\u001b[39;00m\n\u001b[0;32m     12\u001b[0m \u001b[38;5;28;01mfrom\u001b[39;00m \u001b[38;5;21;01mjax\u001b[39;00m \u001b[38;5;28;01mimport\u001b[39;00m numpy \u001b[38;5;28;01mas\u001b[39;00m jp\n\u001b[0;32m     13\u001b[0m \u001b[38;5;28;01mimport\u001b[39;00m \u001b[38;5;21;01mnumpy\u001b[39;00m \u001b[38;5;28;01mas\u001b[39;00m \u001b[38;5;21;01mnp\u001b[39;00m\n",
            "File \u001b[1;32mc:\\Users\\ronki\\anaconda3\\envs\\mujoco_env\\Lib\\site-packages\\jax\\__init__.py:25\u001b[0m\n\u001b[0;32m     22\u001b[0m \u001b[38;5;28;01mfrom\u001b[39;00m \u001b[38;5;21;01mjax\u001b[39;00m\u001b[38;5;21;01m.\u001b[39;00m\u001b[38;5;21;01mversion\u001b[39;00m \u001b[38;5;28;01mimport\u001b[39;00m __version_info__ \u001b[38;5;28;01mas\u001b[39;00m __version_info__\n\u001b[0;32m     24\u001b[0m \u001b[38;5;66;03m# Set Cloud TPU env vars if necessary before transitively loading C++ backend\u001b[39;00m\n\u001b[1;32m---> 25\u001b[0m \u001b[38;5;28;01mfrom\u001b[39;00m \u001b[38;5;21;01mjax\u001b[39;00m\u001b[38;5;21;01m.\u001b[39;00m\u001b[38;5;21;01m_src\u001b[39;00m\u001b[38;5;21;01m.\u001b[39;00m\u001b[38;5;21;01mcloud_tpu_init\u001b[39;00m \u001b[38;5;28;01mimport\u001b[39;00m cloud_tpu_init \u001b[38;5;28;01mas\u001b[39;00m _cloud_tpu_init\n\u001b[0;32m     26\u001b[0m \u001b[38;5;28;01mtry\u001b[39;00m:\n\u001b[0;32m     27\u001b[0m   _cloud_tpu_init()\n",
            "File \u001b[1;32mc:\\Users\\ronki\\anaconda3\\envs\\mujoco_env\\Lib\\site-packages\\jax\\_src\\cloud_tpu_init.py:17\u001b[0m\n\u001b[0;32m     15\u001b[0m \u001b[38;5;28;01mimport\u001b[39;00m \u001b[38;5;21;01mos\u001b[39;00m\n\u001b[0;32m     16\u001b[0m \u001b[38;5;28;01mfrom\u001b[39;00m \u001b[38;5;21;01mjax\u001b[39;00m \u001b[38;5;28;01mimport\u001b[39;00m version\n\u001b[1;32m---> 17\u001b[0m \u001b[38;5;28;01mfrom\u001b[39;00m \u001b[38;5;21;01mjax\u001b[39;00m\u001b[38;5;21;01m.\u001b[39;00m\u001b[38;5;21;01m_src\u001b[39;00m \u001b[38;5;28;01mimport\u001b[39;00m config\n\u001b[0;32m     18\u001b[0m \u001b[38;5;28;01mfrom\u001b[39;00m \u001b[38;5;21;01mjax\u001b[39;00m\u001b[38;5;21;01m.\u001b[39;00m\u001b[38;5;21;01m_src\u001b[39;00m \u001b[38;5;28;01mimport\u001b[39;00m hardware_utils\n\u001b[0;32m     20\u001b[0m running_in_cloud_tpu_vm: \u001b[38;5;28mbool\u001b[39m \u001b[38;5;241m=\u001b[39m \u001b[38;5;28;01mFalse\u001b[39;00m\n",
            "File \u001b[1;32mc:\\Users\\ronki\\anaconda3\\envs\\mujoco_env\\Lib\\site-packages\\jax\\_src\\config.py:26\u001b[0m\n\u001b[0;32m     23\u001b[0m \u001b[38;5;28;01mimport\u001b[39;00m \u001b[38;5;21;01msys\u001b[39;00m\n\u001b[0;32m     24\u001b[0m \u001b[38;5;28;01mfrom\u001b[39;00m \u001b[38;5;21;01mtyping\u001b[39;00m \u001b[38;5;28;01mimport\u001b[39;00m Any, Generic, NoReturn, Optional, Protocol, TypeVar, cast\n\u001b[1;32m---> 26\u001b[0m \u001b[38;5;28;01mfrom\u001b[39;00m \u001b[38;5;21;01mjax\u001b[39;00m\u001b[38;5;21;01m.\u001b[39;00m\u001b[38;5;21;01m_src\u001b[39;00m\u001b[38;5;21;01m.\u001b[39;00m\u001b[38;5;21;01mlib\u001b[39;00m \u001b[38;5;28;01mimport\u001b[39;00m guard_lib\n\u001b[0;32m     27\u001b[0m \u001b[38;5;28;01mfrom\u001b[39;00m \u001b[38;5;21;01mjax\u001b[39;00m\u001b[38;5;21;01m.\u001b[39;00m\u001b[38;5;21;01m_src\u001b[39;00m\u001b[38;5;21;01m.\u001b[39;00m\u001b[38;5;21;01mlib\u001b[39;00m \u001b[38;5;28;01mimport\u001b[39;00m jax_jit\n\u001b[0;32m     28\u001b[0m \u001b[38;5;28;01mfrom\u001b[39;00m \u001b[38;5;21;01mjax\u001b[39;00m\u001b[38;5;21;01m.\u001b[39;00m\u001b[38;5;21;01m_src\u001b[39;00m\u001b[38;5;21;01m.\u001b[39;00m\u001b[38;5;21;01mlib\u001b[39;00m \u001b[38;5;28;01mimport\u001b[39;00m xla_client\n",
            "File \u001b[1;32mc:\\Users\\ronki\\anaconda3\\envs\\mujoco_env\\Lib\\site-packages\\jax\\_src\\lib\\__init__.py:87\u001b[0m\n\u001b[0;32m     84\u001b[0m cpu_feature_guard\u001b[38;5;241m.\u001b[39mcheck_cpu_features()\n\u001b[0;32m     86\u001b[0m \u001b[38;5;28;01mimport\u001b[39;00m \u001b[38;5;21;01mjaxlib\u001b[39;00m\u001b[38;5;21;01m.\u001b[39;00m\u001b[38;5;21;01mutils\u001b[39;00m \u001b[38;5;28;01mas\u001b[39;00m \u001b[38;5;21;01mutils\u001b[39;00m  \u001b[38;5;66;03m# noqa: F401\u001b[39;00m\n\u001b[1;32m---> 87\u001b[0m \u001b[38;5;28;01mimport\u001b[39;00m \u001b[38;5;21;01mjaxlib\u001b[39;00m\u001b[38;5;21;01m.\u001b[39;00m\u001b[38;5;21;01mxla_client\u001b[39;00m \u001b[38;5;28;01mas\u001b[39;00m \u001b[38;5;21;01mxla_client\u001b[39;00m\n\u001b[0;32m     88\u001b[0m \u001b[38;5;28;01mimport\u001b[39;00m \u001b[38;5;21;01mjaxlib\u001b[39;00m\u001b[38;5;21;01m.\u001b[39;00m\u001b[38;5;21;01mlapack\u001b[39;00m \u001b[38;5;28;01mas\u001b[39;00m \u001b[38;5;21;01mlapack\u001b[39;00m  \u001b[38;5;66;03m# noqa: F401\u001b[39;00m\n\u001b[0;32m     90\u001b[0m xla_extension \u001b[38;5;241m=\u001b[39m xla_client\u001b[38;5;241m.\u001b[39m_xla\n",
            "File \u001b[1;32mc:\\Users\\ronki\\anaconda3\\envs\\mujoco_env\\Lib\\site-packages\\jaxlib\\xla_client.py:30\u001b[0m\n\u001b[0;32m     27\u001b[0m \u001b[38;5;28;01mimport\u001b[39;00m \u001b[38;5;21;01mthreading\u001b[39;00m\n\u001b[0;32m     28\u001b[0m \u001b[38;5;28;01mfrom\u001b[39;00m \u001b[38;5;21;01mtyping\u001b[39;00m \u001b[38;5;28;01mimport\u001b[39;00m Any, Protocol, Union\n\u001b[1;32m---> 30\u001b[0m \u001b[38;5;28;01mimport\u001b[39;00m \u001b[38;5;21;01mml_dtypes\u001b[39;00m\n\u001b[0;32m     31\u001b[0m \u001b[38;5;28;01mimport\u001b[39;00m \u001b[38;5;21;01mnumpy\u001b[39;00m \u001b[38;5;28;01mas\u001b[39;00m \u001b[38;5;21;01mnp\u001b[39;00m\n\u001b[0;32m     33\u001b[0m \u001b[38;5;28;01mfrom\u001b[39;00m \u001b[38;5;21;01m.\u001b[39;00m \u001b[38;5;28;01mimport\u001b[39;00m xla_extension \u001b[38;5;28;01mas\u001b[39;00m _xla\n",
            "File \u001b[1;32mc:\\Users\\ronki\\anaconda3\\envs\\mujoco_env\\Lib\\site-packages\\ml_dtypes\\__init__.py:40\u001b[0m\n\u001b[0;32m     16\u001b[0m __all__ \u001b[38;5;241m=\u001b[39m [\n\u001b[0;32m     17\u001b[0m     \u001b[38;5;124m\"\u001b[39m\u001b[38;5;124m__version__\u001b[39m\u001b[38;5;124m\"\u001b[39m,\n\u001b[0;32m     18\u001b[0m     \u001b[38;5;124m\"\u001b[39m\u001b[38;5;124mbfloat16\u001b[39m\u001b[38;5;124m\"\u001b[39m,\n\u001b[1;32m   (...)\u001b[0m\n\u001b[0;32m     35\u001b[0m     \u001b[38;5;124m\"\u001b[39m\u001b[38;5;124muint4\u001b[39m\u001b[38;5;124m\"\u001b[39m,\n\u001b[0;32m     36\u001b[0m ]\n\u001b[0;32m     38\u001b[0m \u001b[38;5;28;01mfrom\u001b[39;00m \u001b[38;5;21;01mtyping\u001b[39;00m \u001b[38;5;28;01mimport\u001b[39;00m Type\n\u001b[1;32m---> 40\u001b[0m \u001b[38;5;28;01mfrom\u001b[39;00m \u001b[38;5;21;01mml_dtypes\u001b[39;00m\u001b[38;5;21;01m.\u001b[39;00m\u001b[38;5;21;01m_finfo\u001b[39;00m \u001b[38;5;28;01mimport\u001b[39;00m finfo\n\u001b[0;32m     41\u001b[0m \u001b[38;5;28;01mfrom\u001b[39;00m \u001b[38;5;21;01mml_dtypes\u001b[39;00m\u001b[38;5;21;01m.\u001b[39;00m\u001b[38;5;21;01m_iinfo\u001b[39;00m \u001b[38;5;28;01mimport\u001b[39;00m iinfo\n\u001b[0;32m     42\u001b[0m \u001b[38;5;28;01mfrom\u001b[39;00m \u001b[38;5;21;01mml_dtypes\u001b[39;00m\u001b[38;5;21;01m.\u001b[39;00m\u001b[38;5;21;01m_ml_dtypes_ext\u001b[39;00m \u001b[38;5;28;01mimport\u001b[39;00m bfloat16\n",
            "File \u001b[1;32mc:\\Users\\ronki\\anaconda3\\envs\\mujoco_env\\Lib\\site-packages\\ml_dtypes\\_finfo.py:17\u001b[0m\n\u001b[0;32m      1\u001b[0m \u001b[38;5;66;03m# Copyright 2023 The ml_dtypes Authors.\u001b[39;00m\n\u001b[0;32m      2\u001b[0m \u001b[38;5;66;03m#\u001b[39;00m\n\u001b[0;32m      3\u001b[0m \u001b[38;5;66;03m# Licensed under the Apache License, Version 2.0 (the \"License\");\u001b[39;00m\n\u001b[1;32m   (...)\u001b[0m\n\u001b[0;32m     12\u001b[0m \u001b[38;5;66;03m# See the License for the specific language governing permissions and\u001b[39;00m\n\u001b[0;32m     13\u001b[0m \u001b[38;5;66;03m# limitations under the License.\u001b[39;00m\n\u001b[0;32m     15\u001b[0m \u001b[38;5;124;03m\"\"\"Overload of numpy.finfo to handle dtypes defined in ml_dtypes.\"\"\"\u001b[39;00m\n\u001b[1;32m---> 17\u001b[0m \u001b[38;5;28;01mfrom\u001b[39;00m \u001b[38;5;21;01mml_dtypes\u001b[39;00m\u001b[38;5;21;01m.\u001b[39;00m\u001b[38;5;21;01m_ml_dtypes_ext\u001b[39;00m \u001b[38;5;28;01mimport\u001b[39;00m bfloat16\n\u001b[0;32m     18\u001b[0m \u001b[38;5;28;01mfrom\u001b[39;00m \u001b[38;5;21;01mml_dtypes\u001b[39;00m\u001b[38;5;21;01m.\u001b[39;00m\u001b[38;5;21;01m_ml_dtypes_ext\u001b[39;00m \u001b[38;5;28;01mimport\u001b[39;00m float4_e2m1fn\n\u001b[0;32m     19\u001b[0m \u001b[38;5;28;01mfrom\u001b[39;00m \u001b[38;5;21;01mml_dtypes\u001b[39;00m\u001b[38;5;21;01m.\u001b[39;00m\u001b[38;5;21;01m_ml_dtypes_ext\u001b[39;00m \u001b[38;5;28;01mimport\u001b[39;00m float6_e2m3fn\n",
            "\u001b[1;31mImportError\u001b[0m: numpy._core.umath failed to import"
          ]
        }
      ],
      "source": [
        "#@title Import MuJoCo, MJX, and Brax\n",
        "from datetime import datetime\n",
        "from etils import epath\n",
        "import functools\n",
        "from IPython.display import HTML\n",
        "from typing import Any, Dict, Sequence, Tuple, Union\n",
        "import os\n",
        "from ml_collections import config_dict\n",
        "\n",
        "\n",
        "import jax\n",
        "from jax import numpy as jp\n",
        "import numpy as np\n",
        "from flax.training import orbax_utils\n",
        "from flax import struct\n",
        "from matplotlib import pyplot as plt\n",
        "import mediapy as media\n",
        "from orbax import checkpoint as ocp\n",
        "\n",
        "import mujoco\n",
        "from mujoco import mjx\n",
        "\n",
        "from brax import base\n",
        "from brax import envs\n",
        "from brax import math\n",
        "from brax.base import Base, Motion, Transform\n",
        "from brax.base import State as PipelineState\n",
        "from brax.envs.base import Env, PipelineEnv, State\n",
        "from brax.mjx.base import State as MjxState\n",
        "from brax.training.agents.ppo import train as ppo\n",
        "from brax.training.agents.ppo import networks as ppo_networks\n",
        "from brax.io import html, mjcf, model"
      ]
    },
    {
      "cell_type": "code",
      "execution_count": null,
      "metadata": {
        "cellView": "form",
        "id": "T5f4w3Kq2X14"
      },
      "outputs": [],
      "source": [
        "#@title Import packages for plotting and creating graphics\n",
        "import time\n",
        "import itertools\n",
        "import numpy as np\n",
        "from typing import Callable, NamedTuple, Optional, Union, List\n",
        "\n",
        "# Graphics and plotting.\n",
        "print('Installing mediapy:')\n",
        "!command -v ffmpeg >/dev/null || (apt update && apt install -y ffmpeg)\n",
        "%pip install -q mediapy\n",
        "import mediapy as media\n",
        "import matplotlib.pyplot as plt\n",
        "\n",
        "# More legible printing from numpy.\n",
        "np.set_printoptions(precision=3, suppress=True, linewidth=100)"
      ]
    },
    {
      "cell_type": "code",
      "execution_count": null,
      "metadata": {
        "cellView": "form",
        "id": "ObF1UXrkb0Nd"
      },
      "outputs": [],
      "source": [
        "#@title Import MuJoCo, MJX, and Brax\n",
        "from datetime import datetime\n",
        "from etils import epath\n",
        "import functools\n",
        "from IPython.display import HTML\n",
        "from typing import Any, Dict, Sequence, Tuple, Union\n",
        "import os\n",
        "from ml_collections import config_dict\n",
        "\n",
        "\n",
        "import jax\n",
        "from jax import numpy as jp\n",
        "import numpy as np\n",
        "from flax.training import orbax_utils\n",
        "from flax import struct\n",
        "from matplotlib import pyplot as plt\n",
        "import mediapy as media\n",
        "from orbax import checkpoint as ocp\n",
        "\n",
        "import mujoco\n",
        "from mujoco import mjx\n",
        "\n",
        "from brax import base\n",
        "from brax import envs\n",
        "from brax import math\n",
        "from brax.base import Base, Motion, Transform\n",
        "from brax.base import State as PipelineState\n",
        "from brax.envs.base import Env, PipelineEnv, State\n",
        "from brax.mjx.base import State as MjxState\n",
        "from brax.training.agents.ppo import train as ppo\n",
        "from brax.training.agents.ppo import networks as ppo_networks\n",
        "from brax.io import html, mjcf, model\n"
      ]
    },
    {
      "cell_type": "code",
      "execution_count": null,
      "metadata": {
        "id": "mtGMYNLE3QJN"
      },
      "outputs": [],
      "source": [
        "#@title Humanoid Env\n",
        "\n",
        "HUMANOID_ROOT_PATH = epath.Path(epath.resource_path('mujoco')) / 'mjx/test_data/humanoid'\n",
        "\n",
        "class Humanoid(PipelineEnv):\n",
        "\n",
        "  def __init__(\n",
        "      self,\n",
        "      forward_reward_weight=5.0,\n",
        "      ctrl_cost_weight=0.0,\n",
        "      healthy_reward=2.0,\n",
        "      terminate_when_unhealthy=True,\n",
        "      healthy_z_range=(1.0, 2.0),\n",
        "      reset_noise_scale=1e-2,\n",
        "      exclude_current_positions_from_observation=True,\n",
        "      **kwargs,\n",
        "  ):\n",
        "#\n",
        "    mj_model = mujoco.MjModel.from_xml_path(\n",
        "        (HUMANOID_ROOT_PATH / 'humanoid.xml').as_posix())\n",
        "    mj_model.opt.solver = mujoco.mjtSolver.mjSOL_CG\n",
        "    mj_model.opt.iterations = 6\n",
        "    mj_model.opt.ls_iterations = 6\n",
        "\n",
        "    sys = mjcf.load_model(mj_model)\n",
        "\n",
        "    physics_steps_per_control_step = 5\n",
        "    kwargs['n_frames'] = kwargs.get(\n",
        "        'n_frames', physics_steps_per_control_step)\n",
        "    kwargs['backend'] = 'mjx'\n",
        "\n",
        "    super().__init__(sys, **kwargs)\n",
        "\n",
        "    self._forward_reward_weight = forward_reward_weight\n",
        "    self._ctrl_cost_weight = ctrl_cost_weight\n",
        "    self._healthy_reward = healthy_reward\n",
        "    self._terminate_when_unhealthy = terminate_when_unhealthy\n",
        "    self._healthy_z_range = healthy_z_range\n",
        "    self._reset_noise_scale = reset_noise_scale\n",
        "    self._exclude_current_positions_from_observation = (\n",
        "        exclude_current_positions_from_observation\n",
        "    )\n",
        "\n",
        "  def reset(self, rng: jp.ndarray) -> State:\n",
        "    \"\"\"Resets the environment to an initial state.\"\"\"\n",
        "    rng, rng1, rng2 = jax.random.split(rng, 3)\n",
        "\n",
        "    low, hi = -self._reset_noise_scale, self._reset_noise_scale\n",
        "    qpos = self.sys.qpos0 + jax.random.uniform(\n",
        "        rng1, (self.sys.nq,), minval=low, maxval=hi\n",
        "    )\n",
        "    qvel = jax.random.uniform(\n",
        "        rng2, (self.sys.nv,), minval=low, maxval=hi\n",
        "    )\n",
        "\n",
        "    data = self.pipeline_init(qpos, qvel)\n",
        "\n",
        "    obs = self._get_obs(data, jp.zeros(self.sys.nu))\n",
        "    reward, done, zero = jp.zeros(3)\n",
        "    metrics = {\n",
        "        'forward_reward': zero,\n",
        "        'reward_linvel': zero,\n",
        "        'reward_quadctrl': zero,\n",
        "        'reward_alive': zero,\n",
        "        'x_position': zero,\n",
        "        'y_position': zero,\n",
        "        'distance_from_origin': zero,\n",
        "        'x_velocity': zero,\n",
        "        'y_velocity': zero,\n",
        "    }\n",
        "    return State(data, obs, reward, done, metrics)\n",
        "\n",
        "  def step(self, state: State, action: jp.ndarray) -> State:\n",
        "    \"\"\"Runs one timestep of the environment's dynamics.\"\"\"\n",
        "    data0 = state.pipeline_state\n",
        "    data = self.pipeline_step(data0, action)\n",
        "\n",
        "    com_before = data0.subtree_com[1]\n",
        "    com_after = data.subtree_com[1]\n",
        "    velocity = (com_after - com_before) / self.dt\n",
        "    forward_reward = self._forward_reward_weight * velocity[0]\n",
        "\n",
        "    min_z, max_z = self._healthy_z_range\n",
        "    is_healthy = jp.where(data.q[2] < min_z, 0.0, 1.0)\n",
        "    is_healthy = jp.where(data.q[2] > max_z, 0.0, is_healthy)\n",
        "    if self._terminate_when_unhealthy:\n",
        "      healthy_reward = self._healthy_reward\n",
        "    else:\n",
        "      healthy_reward = self._healthy_reward * is_healthy\n",
        "\n",
        "    ctrl_cost = self._ctrl_cost_weight * jp.sum(jp.square(action))\n",
        "\n",
        "    obs = self._get_obs(data, action)\n",
        "    reward = forward_reward + healthy_reward - ctrl_cost\n",
        "    done = 1.0 - is_healthy if self._terminate_when_unhealthy else 0.0\n",
        "    state.metrics.update(\n",
        "        forward_reward=forward_reward,\n",
        "        reward_linvel=forward_reward,\n",
        "        reward_quadctrl=-ctrl_cost,\n",
        "        reward_alive=healthy_reward,\n",
        "        x_position=com_after[0],\n",
        "        y_position=com_after[1],\n",
        "        distance_from_origin=jp.linalg.norm(com_after),\n",
        "        x_velocity=velocity[0],\n",
        "        y_velocity=velocity[1],\n",
        "    )\n",
        "\n",
        "    return state.replace(\n",
        "        pipeline_state=data, obs=obs, reward=reward, done=done\n",
        "    )\n",
        "\n",
        "  def _get_obs(\n",
        "      self, data: mjx.Data, action: jp.ndarray\n",
        "  ) -> jp.ndarray:\n",
        "    \"\"\"Observes humanoid body position, velocities, and angles.\"\"\"\n",
        "    position = data.qpos\n",
        "    if self._exclude_current_positions_from_observation:\n",
        "      position = position[2:]\n",
        "\n",
        "    # external_contact_forces are excluded\n",
        "    return jp.concatenate([\n",
        "        position,\n",
        "        data.qvel,\n",
        "        data.cinert[1:].ravel(),\n",
        "        data.cvel[1:].ravel(),\n",
        "        data.qfrc_actuator,\n",
        "    ])\n",
        "\n",
        "\n",
        "envs.register_environment('humanoid', Humanoid)"
      ]
    },
    {
      "cell_type": "markdown",
      "metadata": {
        "id": "P1K6IznI2y83"
      },
      "source": [
        "## Instantiate Env\n",
        "\n"
      ]
    },
    {
      "cell_type": "code",
      "execution_count": null,
      "metadata": {
        "id": "EhKLFK54C1CH"
      },
      "outputs": [],
      "source": [
        "# instantiate the environment\n",
        "env_name = 'humanoid'\n",
        "env = envs.get_environment(env_name)\n",
        "\n",
        "# define the jit reset/step functions\n",
        "jit_reset = jax.jit(env.reset)\n",
        "jit_step = jax.jit(env.step)\n"
      ]
    },
    {
      "cell_type": "code",
      "execution_count": null,
      "metadata": {
        "id": "Ph8u-v2Q2xLS"
      },
      "outputs": [],
      "source": [
        "# initialize the state\n",
        "state = jit_reset(jax.random.PRNGKey(0))\n",
        "rollout = [state.pipeline_state]\n",
        "\n",
        "# grab a trajectory\n",
        "for i in range(10):\n",
        "  ctrl = -0.1 * jp.ones(env.sys.nu)\n",
        "  state = jit_step(state, ctrl)\n",
        "  rollout.append(state.pipeline_state)\n",
        "\n",
        "media.show_video(env.render(rollout, camera='side'), fps=1.0 / env.dt)"
      ]
    },
    {
      "cell_type": "markdown",
      "metadata": {
        "id": "BQDG6NQ1CbZD"
      },
      "source": [
        "## Train Humanoid Policy\n",
        "\n",
        "PPO policy to make the humanoid run forward (takes ~11 minutes on T4 GPU)"
      ]
    },
    {
      "cell_type": "code",
      "execution_count": null,
      "metadata": {
        "id": "xLiddQYPApBw"
      },
      "outputs": [],
      "source": [
        "train_fn = functools.partial(\n",
        "    ppo.train, num_timesteps=20_000_000, num_evals=5, reward_scaling=0.1,\n",
        "    episode_length=1000, normalize_observations=True, action_repeat=1,\n",
        "    unroll_length=10, num_minibatches=24, num_updates_per_batch=8,\n",
        "    discounting=0.97, learning_rate=3e-4, entropy_cost=1e-3, num_envs=3072,\n",
        "    batch_size=512, seed=0)\n",
        "\n",
        "\n",
        "x_data = []\n",
        "y_data = []\n",
        "ydataerr = []\n",
        "times = [datetime.now()]\n",
        "\n",
        "max_y, min_y = 13000, 0\n",
        "def progress(num_steps, metrics):\n",
        "  times.append(datetime.now())\n",
        "  x_data.append(num_steps)\n",
        "  y_data.append(metrics['eval/episode_reward'])\n",
        "  ydataerr.append(metrics['eval/episode_reward_std'])\n",
        "\n",
        "  plt.xlim([0, train_fn.keywords['num_timesteps'] * 1.25])\n",
        "  plt.ylim([min_y, max_y])\n",
        "\n",
        "  plt.xlabel('# environment steps')\n",
        "  plt.ylabel('reward per episode')\n",
        "  plt.title(f'y={y_data[-1]:.3f}')\n",
        "\n",
        "  plt.errorbar(\n",
        "      x_data, y_data, yerr=ydataerr)\n",
        "  plt.show()\n",
        "\n",
        "make_inference_fn, params, _= train_fn(environment=env, progress_fn=progress)\n",
        "\n",
        "print(f'time to jit: {times[1] - times[0]}')\n",
        "print(f'time to train: {times[-1] - times[1]}')"
      ]
    },
    {
      "cell_type": "code",
      "execution_count": null,
      "metadata": {
        "id": "Z8gI6qH6ApBx"
      },
      "outputs": [],
      "source": [
        "#@title Save Model\n",
        "model_path = '/tmp/mjx_brax_policy'\n",
        "model.save_params(model_path, params)"
      ]
    },
    {
      "cell_type": "code",
      "execution_count": null,
      "metadata": {
        "id": "h4reaWgxApBx"
      },
      "outputs": [],
      "source": [
        "#@title Load Model and Define Inference Function\n",
        "params = model.load_params(model_path)\n",
        "\n",
        "inference_fn = make_inference_fn(params)\n",
        "jit_inference_fn = jax.jit(inference_fn)"
      ]
    },
    {
      "cell_type": "markdown",
      "metadata": {
        "id": "0G357XIfApBy"
      },
      "source": [
        "## Visualize Policy"
      ]
    },
    {
      "cell_type": "code",
      "execution_count": null,
      "metadata": {
        "id": "osYasMw4ApBy"
      },
      "outputs": [],
      "source": [
        "eval_env = envs.get_environment(env_name)\n",
        "\n",
        "jit_reset = jax.jit(eval_env.reset)\n",
        "jit_step = jax.jit(eval_env.step)"
      ]
    },
    {
      "cell_type": "code",
      "execution_count": null,
      "metadata": {
        "id": "d-UhypudApBy"
      },
      "outputs": [],
      "source": [
        "# initialize the state\n",
        "rng = jax.random.PRNGKey(0)\n",
        "state = jit_reset(rng)\n",
        "rollout = [state.pipeline_state]\n",
        "\n",
        "# grab a trajectory\n",
        "n_steps = 500\n",
        "render_every = 2\n",
        "\n",
        "for i in range(n_steps):\n",
        "  act_rng, rng = jax.random.split(rng)\n",
        "  ctrl, _ = jit_inference_fn(state.obs, act_rng)\n",
        "  state = jit_step(state, ctrl)\n",
        "  rollout.append(state.pipeline_state)\n",
        "\n",
        "  if state.done:\n",
        "    break\n",
        "\n",
        "media.show_video(env.render(rollout[::render_every], camera='side'), fps=1.0 / env.dt / render_every)"
      ]
    },
    {
      "cell_type": "markdown",
      "metadata": {
        "id": "zR-heox6LARK"
      },
      "source": [
        "# MJX Policy in MuJoCo\n",
        "\n",
        "We can also perform the physics step using the original MuJoCo python bindings to show that the policy trained in MJX works in MuJoCo."
      ]
    },
    {
      "cell_type": "code",
      "execution_count": null,
      "metadata": {
        "id": "w6ixFi4dApBy"
      },
      "outputs": [],
      "source": [
        "mj_model = eval_env.sys.mj_model\n",
        "mj_data = mujoco.MjData(mj_model)\n",
        "\n",
        "renderer = mujoco.Renderer(mj_model)\n",
        "ctrl = jp.zeros(mj_model.nu)\n",
        "\n",
        "images = []\n",
        "for i in range(n_steps):\n",
        "  act_rng, rng = jax.random.split(rng)\n",
        "\n",
        "  obs = eval_env._get_obs(mjx.put_data(mj_model, mj_data), ctrl)\n",
        "  ctrl, _ = jit_inference_fn(obs, act_rng)\n",
        "\n",
        "  mj_data.ctrl = ctrl\n",
        "  for _ in range(eval_env._n_frames):\n",
        "    mujoco.mj_step(mj_model, mj_data)  # Physics step using MuJoCo mj_step.\n",
        "\n",
        "  if i % render_every == 0:\n",
        "    renderer.update_scene(mj_data, camera='side')\n",
        "    images.append(renderer.render())\n",
        "\n",
        "media.show_video(images, fps=1.0 / eval_env.dt / render_every)"
      ]
    }
  ],
  "metadata": {
    "accelerator": "GPU",
    "colab": {
      "gpuClass": "premium",
      "gpuType": "T4",
      "private_outputs": true,
      "provenance": []
    },
    "kernelspec": {
      "display_name": "mujoco_env",
      "language": "python",
      "name": "python3"
    },
    "language_info": {
      "codemirror_mode": {
        "name": "ipython",
        "version": 3
      },
      "file_extension": ".py",
      "mimetype": "text/x-python",
      "name": "python",
      "nbconvert_exporter": "python",
      "pygments_lexer": "ipython3",
      "version": "3.11.11"
    }
  },
  "nbformat": 4,
  "nbformat_minor": 0
}
